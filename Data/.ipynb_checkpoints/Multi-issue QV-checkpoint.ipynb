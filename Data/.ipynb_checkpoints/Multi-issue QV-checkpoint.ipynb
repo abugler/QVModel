{
 "cells": [
  {
   "cell_type": "code",
   "execution_count": 1,
   "metadata": {},
   "outputs": [],
   "source": [
    "import pandas as pd\n",
    "import numpy as np\n",
    "import matplotlib.pyplot as plt\n",
    "import seaborn as sns\n",
    "\n",
    "\n",
    "import matplotlib     \n",
    "font = {'size'   : 16}\n",
    "matplotlib.rc('font', **font)"
   ]
  },
  {
   "cell_type": "code",
   "execution_count": 50,
   "metadata": {},
   "outputs": [],
   "source": [
    "def to_array(string):\n",
    "    return np.array([float(el) for el in string.replace(\"[\", \"\").replace(\"]\",\"\").split(\" \")])\n",
    "\n",
    "df = pd.read_csv('2020.02.19-multi-issue-QV-non-strategic-voting.csv')\n",
    "\n",
    "cols_to_drop = ['vote-portion-strategic', 'proportion-of-strategic-voters', 'minority-power',\n",
    "               'y-axis', 'x-axis', 'issue-num', 'poll-response-rate', '[step]']\n",
    "df.drop(columns=cols_to_drop, inplace=True)\n",
    "\n",
    "df['total-payoff-per-issue'] = df['total-payoff-per-issue'].apply(to_array)\n",
    "df['mean-utilities'] = df['mean-utilities'].apply(to_array)\n",
    "df['median-utilities'] = df['median-utilities'].apply(to_array)\n",
    "df['mean-median-same-sign-list'] = df['mean-median-same-sign-list'].apply(to_array)\n",
    "\n",
    "def WL_per_issue(payoffs):\n",
    "    return (payoffs < 0) * 1\n",
    "\n",
    "df['WL-per-issue'] = df['total-payoff-per-issue'].apply(WL_per_issue)\n",
    "df['mean-WL'] = df['WL-per-issue'].apply(np.mean)"
   ]
  },
  {
   "cell_type": "code",
   "execution_count": null,
   "metadata": {},
   "outputs": [],
   "source": [
    "# checking that mean-WL is 0 whenever maximial-utility? is True and is >0 when maximal utility is false\n",
    "all(df['maximal-utility?'].apply(lambda mu: not mu) == np.ceil(df['mean-WL']))"
   ]
  },
  {
   "cell_type": "code",
   "execution_count": 91,
   "metadata": {},
   "outputs": [],
   "source": [
    "df_qv = df[df['QV?'] == True]\n",
    "df_1p1v = df[df['QV?'] == False]\n",
    "df_normal = df[df['utility-distribution'] == \"Normal mean = 0\"] \n",
    "df_prop8 = df[df['utility-distribution'] == \"Prop8 mean>0\"] "
   ]
  },
  {
   "cell_type": "code",
   "execution_count": 106,
   "metadata": {},
   "outputs": [
    {
     "data": {
      "text/plain": [
       "True"
      ]
     },
     "execution_count": 106,
     "metadata": {},
     "output_type": "execute_result"
    }
   ],
   "source": []
  },
  {
   "cell_type": "code",
   "execution_count": null,
   "metadata": {},
   "outputs": [],
   "source": []
  },
  {
   "cell_type": "code",
   "execution_count": null,
   "metadata": {},
   "outputs": [],
   "source": []
  }
 ],
 "metadata": {
  "kernelspec": {
   "display_name": "Python 3",
   "language": "python",
   "name": "python3"
  },
  "language_info": {
   "codemirror_mode": {
    "name": "ipython",
    "version": 3
   },
   "file_extension": ".py",
   "mimetype": "text/x-python",
   "name": "python",
   "nbconvert_exporter": "python",
   "pygments_lexer": "ipython3",
   "version": "3.7.2"
  }
 },
 "nbformat": 4,
 "nbformat_minor": 2
}
