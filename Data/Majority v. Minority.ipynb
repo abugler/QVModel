{
 "cells": [
  {
   "cell_type": "markdown",
   "metadata": {
    "collapsed": true,
    "pycharm": {
     "name": "#%% md\n"
    }
   },
   "source": [
    "The goal is to investigate the issue of the passionate minority vs. the indifferent majority.\n",
    "The \"passionate minority\" has a mean utility of 0.8 for issue 0, and a mean utility of 0 for all other issues.\n",
    "The \"indifferent majority\" has a mean utility of -.05 for issue 0, and mean utility of 0 for all other issues.\n",
    "For all issues that are not issue 0, the majority will have a higher variance of utilities than the minority.\n",
    "\n",
    "The net utility for issue 0 will be roughly +100 in the minorities favor. "
   ]
  },
  {
   "cell_type": "markdown",
   "source": [
    "Research Question: How does the number of issues affect the outcome of the votes?\n",
    "------ \n",
    "Differences between this and Weyl's \"Nash Equilibria for Quadratic Voting\" Is that the voter is restricted to a number of voice credits, while in the paper, there is no discrete limit."
   ],
   "metadata": {
    "collapsed": false,
    "pycharm": {
     "name": "#%% md\n"
    }
   }
  },
  {
   "cell_type": "code",
   "execution_count": 11,
   "outputs": [],
   "source": [
    "# Define all packages\n",
    "import pandas as pd\n",
    "import numpy as np\n",
    "# import matplotlib.pyplot as plt\n",
    "\n",
    "# Define lambda functions, for readability \n",
    "parse_vectors = lambda f: f.apply(lambda array: np.fromstring(array[1:-1], sep = ' ', dtype = float))  \n",
    "nth_item = lambda f, i: f.apply(lambda x: float(x[i]))\n",
    "\n",
    "df = pd.read_csv(\"QVoting with Polling minority-vs-majority-table.csv\")\n",
    "\n",
    "# Parse vectors in the df\n",
    "df[\"Social Policy Vector\"] = parse_vectors(df[\"Social Policy Vector\"])\n",
    "df[\"Total Utility Gain\"] = parse_vectors(df[\"Total Utility Gain\"])"
   ],
   "metadata": {
    "collapsed": false,
    "pycharm": {
     "name": "#%%\n",
     "is_executing": false
    }
   }
  },
  {
   "cell_type": "code",
   "execution_count": 13,
   "outputs": [],
   "source": [
    "\n",
    "\n",
    "\n",
    "find_percentage_of_positive_outcome = (lambda f: \n",
    "                                       sum(\n",
    "                                           (lambda f: \n",
    "                                            nth_item(f[\"Total Utility Gain\"], 0)\n",
    "                                            .apply(lambda x: \n",
    "                                                int (x > 0))\n",
    "                                            )\n",
    "                                           (f))\n",
    "                                       /f.shape[0])\n",
    "\n",
    "percentages = []\n",
    "number_of_issues = df[\"Number of Issues\"].drop_duplicates().sort_values().array()\n",
    "for number in number_of_issues:\n",
    "    percentages.append(find_percentage_of_positive_outcome(df[df[\"Number of Issues\"] == number]))\n"
   ],
   "metadata": {
    "collapsed": false,
    "pycharm": {
     "name": "#%%\n",
     "is_executing": false
    }
   }
  },
  {
   "cell_type": "code",
   "execution_count": 16,
   "outputs": [
    {
     "data": {
      "text/plain": "       Number of Issues  Percentage of elections resulting in Minority Win\n0                     2                                             0.0000\n1999                  3                                             0.0215\n4000                  4                                             1.0000\n5997                  5                                             1.0000\n7998                  6                                             1.0000\n9999                  7                                             1.0000\n11999                 8                                             1.0000\n14000                 9                                             1.0000\n15999                10                                             1.0000",
      "text/html": "<div>\n<style scoped>\n    .dataframe tbody tr th:only-of-type {\n        vertical-align: middle;\n    }\n\n    .dataframe tbody tr th {\n        vertical-align: top;\n    }\n\n    .dataframe thead th {\n        text-align: right;\n    }\n</style>\n<table border=\"1\" class=\"dataframe\">\n  <thead>\n    <tr style=\"text-align: right;\">\n      <th></th>\n      <th>Number of Issues</th>\n      <th>Percentage of elections resulting in Minority Win</th>\n    </tr>\n  </thead>\n  <tbody>\n    <tr>\n      <th>0</th>\n      <td>2</td>\n      <td>0.0000</td>\n    </tr>\n    <tr>\n      <th>1999</th>\n      <td>3</td>\n      <td>0.0215</td>\n    </tr>\n    <tr>\n      <th>4000</th>\n      <td>4</td>\n      <td>1.0000</td>\n    </tr>\n    <tr>\n      <th>5997</th>\n      <td>5</td>\n      <td>1.0000</td>\n    </tr>\n    <tr>\n      <th>7998</th>\n      <td>6</td>\n      <td>1.0000</td>\n    </tr>\n    <tr>\n      <th>9999</th>\n      <td>7</td>\n      <td>1.0000</td>\n    </tr>\n    <tr>\n      <th>11999</th>\n      <td>8</td>\n      <td>1.0000</td>\n    </tr>\n    <tr>\n      <th>14000</th>\n      <td>9</td>\n      <td>1.0000</td>\n    </tr>\n    <tr>\n      <th>15999</th>\n      <td>10</td>\n      <td>1.0000</td>\n    </tr>\n  </tbody>\n</table>\n</div>"
     },
     "metadata": {},
     "output_type": "execute_result",
     "execution_count": 16
    }
   ],
   "source": [
    "results = pd.DataFrame(data = {\n",
    "    \"Number of Issues\": number_of_issues,\n",
    "    \"Percentage of elections resulting in Minority Win\": percentages\n",
    "})\n",
    "\n",
    "results"
   ],
   "metadata": {
    "collapsed": false,
    "pycharm": {
     "name": "#%%\n",
     "is_executing": false
    }
   }
  },
  {
   "cell_type": "markdown",
   "source": [
    "I don't think the above result is worth graphing. It is obvious the after 4 issues voted simultaneously, there is a very low chance that the the passionate minority will win. "
   ],
   "metadata": {
    "collapsed": false,
    "pycharm": {
     "name": "#%% md\n"
    }
   }
  }
 ],
 "metadata": {
  "language_info": {
   "codemirror_mode": {
    "name": "ipython",
    "version": 2
   },
   "file_extension": ".py",
   "mimetype": "text/x-python",
   "name": "python",
   "nbconvert_exporter": "python",
   "pygments_lexer": "ipython2",
   "version": "2.7.6"
  },
  "kernelspec": {
   "name": "python3",
   "language": "python",
   "display_name": "Python 3"
  },
  "pycharm": {
   "stem_cell": {
    "cell_type": "raw",
    "source": [],
    "metadata": {
     "collapsed": false
    }
   }
  }
 },
 "nbformat": 4,
 "nbformat_minor": 0
}