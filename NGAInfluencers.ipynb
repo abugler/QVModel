{
 "cells": [
  {
   "cell_type": "code",
   "execution_count": 51,
   "outputs": [],
   "source": [
    "import pandas as pd\n",
    "import numpy\n",
    "\n",
    "# Read csv from Behavior Space experiment\n",
    "df =  pd.read_csv(\"NGA-influenced-table.csv\")\n",
    "\n",
    "# Parse vectors\n",
    "df[\"Total Utility\"] = df[\"Total Utility\"].apply(lambda array: numpy.fromstring(array[1:-1], sep = ' ', dtype = float))  \n",
    "df[\"Social Policy Vector\"] = df[\"Social Policy Vector\"].apply(lambda array: numpy.fromstring(array[1:-1], sep = ' ', dtype = float))  \n"
   ],
   "metadata": {
    "collapsed": false,
    "pycharm": {
     "name": "#%% \n",
     "is_executing": false
    }
   }
  },
  {
   "cell_type": "code",
   "execution_count": null,
   "outputs": [],
   "source": [
    "\n",
    "# Find every combination of Range, Strength, and NGA or 1p1v\n",
    "Percentages = df[[\"Influencer Range\", \"Influencer Strength\", \"NGA?\"]].drop_duplicates()\n",
    "Percentages = pd.concat([Percentages, pd.DataFrame(columns = [\"% Efficient Outcome\"])], sort = True)\n",
    "\n",
    "# Find the percentages of positive payoffs for each combination\n",
    "groups = df.groupby([\"Influencer Range\", \"Influencer Strength\", \"NGA?\"])\n",
    "\n",
    "#Define functions for mapping a lists of lists to be it's first or second index\n",
    "firstitem = lambda d : d.apply(lambda x: int(x[0]))\n",
    "seconditem = lambda d : d.apply(lambda x: int(x[1]))\n",
    "\n",
    "for params, group in groups:\n",
    "    # Calculate the percentages of runs that have at least one of the directions of the utility be positive, and the percentage of runs that have both directions be positve\n",
    "    NumberOfRuns = group[\"Total Utility\"].size\n",
    "    NumberOfEfficientOutcomes = pd.to_numeric((firstitem(group[\"Total Utility\"]) > 0) & (seconditem(group[\"Total Utility\"]) > 1)).sum()\n",
    "    PercentageEfficient = NumberOfEfficientOutcomes / NumberOfRuns * 100\n",
    "    \n",
    "    # Find the index in percentages to send, and input the Percentages.\n",
    "    EditingIndex = Percentages[(Percentages[\"Influencer Range\"] == params[0]) &\n",
    "                (Percentages[\"Influencer Strength\"] == params[1]) &\n",
    "                (Percentages[\"NGA?\"] == params[2])].index[0]\n",
    "    Percentages.loc[EditingIndex, \"% Efficient Outcome\"] = PercentageEfficient"
   ],
   "metadata": {
    "collapsed": false,
    "pycharm": {
     "name": "#%%\n",
     "is_executing": true
    }
   }
  },
  {
   "cell_type": "code",
   "execution_count": 1,
   "outputs": [
    {
     "traceback": [
      "\u001b[1;31m---------------------------------------------------------------------------\u001b[0m",
      "\u001b[1;31mNameError\u001b[0m                                 Traceback (most recent call last)",
      "\u001b[1;32m<ipython-input-1-953a8efcee11>\u001b[0m in \u001b[0;36m<module>\u001b[1;34m\u001b[0m\n\u001b[0;32m      1\u001b[0m \u001b[1;31m#Find lists of Ranges and Strengths, sorted\u001b[0m\u001b[1;33m\u001b[0m\u001b[1;33m\u001b[0m\u001b[0m\n\u001b[1;32m----> 2\u001b[1;33m \u001b[0mRanges\u001b[0m \u001b[1;33m=\u001b[0m \u001b[0mlist\u001b[0m\u001b[1;33m(\u001b[0m\u001b[0mmap\u001b[0m\u001b[1;33m(\u001b[0m\u001b[1;32mlambda\u001b[0m \u001b[0mvalue\u001b[0m\u001b[1;33m:\u001b[0m \u001b[0mfloat\u001b[0m\u001b[1;33m(\u001b[0m\u001b[0mvalue\u001b[0m\u001b[1;33m)\u001b[0m\u001b[1;33m,\u001b[0m \u001b[0mPercentages\u001b[0m\u001b[1;33m[\u001b[0m\u001b[1;34m\"Influencer Range\"\u001b[0m\u001b[1;33m]\u001b[0m\u001b[1;33m.\u001b[0m\u001b[0mdrop_duplicates\u001b[0m\u001b[1;33m(\u001b[0m\u001b[1;33m)\u001b[0m\u001b[1;33m.\u001b[0m\u001b[0msort_values\u001b[0m\u001b[1;33m(\u001b[0m\u001b[1;33m)\u001b[0m\u001b[1;33m)\u001b[0m\u001b[1;33m)\u001b[0m\u001b[1;33m\u001b[0m\u001b[0m\n\u001b[0m\u001b[0;32m      3\u001b[0m \u001b[0mStrengths\u001b[0m \u001b[1;33m=\u001b[0m \u001b[0mlist\u001b[0m\u001b[1;33m(\u001b[0m\u001b[0mmap\u001b[0m\u001b[1;33m(\u001b[0m\u001b[1;32mlambda\u001b[0m \u001b[0mvalue\u001b[0m\u001b[1;33m:\u001b[0m \u001b[0mfloat\u001b[0m\u001b[1;33m(\u001b[0m\u001b[0mvalue\u001b[0m\u001b[1;33m)\u001b[0m\u001b[1;33m,\u001b[0m \u001b[0mPercentages\u001b[0m\u001b[1;33m[\u001b[0m\u001b[1;34m\"Influencer Strength\"\u001b[0m\u001b[1;33m]\u001b[0m\u001b[1;33m.\u001b[0m\u001b[0mdrop_duplicates\u001b[0m\u001b[1;33m(\u001b[0m\u001b[1;33m)\u001b[0m\u001b[1;33m.\u001b[0m\u001b[0msort_values\u001b[0m\u001b[1;33m(\u001b[0m\u001b[1;33m)\u001b[0m\u001b[1;33m)\u001b[0m\u001b[1;33m)\u001b[0m\u001b[1;33m\u001b[0m\u001b[0m\n\u001b[0;32m      4\u001b[0m \u001b[1;33m\u001b[0m\u001b[0m\n\u001b[0;32m      5\u001b[0m \u001b[1;31m# NGAPercentages = Percentages[Percentages[\"NGA?\"]]\u001b[0m\u001b[1;33m\u001b[0m\u001b[1;33m\u001b[0m\u001b[0m\n",
      "\u001b[1;31mNameError\u001b[0m: name 'Percentages' is not defined"
     ],
     "ename": "NameError",
     "evalue": "name 'Percentages' is not defined",
     "output_type": "error"
    }
   ],
   "source": [
    "#Find lists of Ranges and Strengths, sorted\n",
    "Ranges = list(map(lambda value: float(value), Percentages[\"Influencer Range\"].drop_duplicates().sort_values()))\n",
    "Strengths = list(map(lambda value: float(value), Percentages[\"Influencer Strength\"].drop_duplicates().sort_values()))\n",
    "\n",
    "# NGAPercentages = Percentages[Percentages[\"NGA?\"]]\n",
    "NGAPercentages = []\n",
    "# OPOVPercentages = Percentages[~ Percentages[\"NGA?\"]]\n",
    "OPOVPercentages = []\n",
    "\n",
    "for index in range(len(Ranges)):\n",
    "    # Make new List, and add each percentage to it for a given range\n",
    "    NGAPercentages.append([])\n",
    "    OPOVPercentages.append([])\n",
    "    for strength in Strengths:\n",
    "        NGAPercentages[int(index)].append(Percentages[(Percentages[\"Influencer Strength\"] == strength) & \n",
    "                                                (Percentages[\"Influencer Range\"] == Ranges[index]) & (Percentages[\"NGA?\"] == True)] # I literally have no idea why ~bool is not working\n",
    "                                                 [\"% Efficient Outcome\"].get_values()[0])\n",
    "        OPOVPercentages[int(index)].append(Percentages[(Percentages[\"Influencer Strength\"] == strength) & \n",
    "                                                (Percentages[\"Influencer Range\"] == Ranges[index]) & (Percentages[\"NGA?\"] == False)]\n",
    "                                                 [\"% Efficient Outcome\"].get_values()[0])\n"
   ],
   "metadata": {
    "collapsed": false,
    "pycharm": {
     "name": "#%%\n",
     "is_executing": false
    }
   }
  },
  {
   "cell_type": "code",
   "execution_count": 2,
   "outputs": [
    {
     "traceback": [
      "\u001b[1;31m---------------------------------------------------------------------------\u001b[0m",
      "\u001b[1;31mNameError\u001b[0m                                 Traceback (most recent call last)",
      "\u001b[1;32m<ipython-input-2-ebc90d2c0934>\u001b[0m in \u001b[0;36m<module>\u001b[1;34m\u001b[0m\n\u001b[0;32m     20\u001b[0m \u001b[1;33m\u001b[0m\u001b[0m\n\u001b[0;32m     21\u001b[0m \u001b[1;31m# NGA and OPOV are in separate for loops, so the legend is in a better order\u001b[0m\u001b[1;33m\u001b[0m\u001b[1;33m\u001b[0m\u001b[0m\n\u001b[1;32m---> 22\u001b[1;33m \u001b[1;32mfor\u001b[0m \u001b[0mindex\u001b[0m \u001b[1;32min\u001b[0m \u001b[0mrange\u001b[0m\u001b[1;33m(\u001b[0m\u001b[0mlen\u001b[0m\u001b[1;33m(\u001b[0m\u001b[0mRanges\u001b[0m\u001b[1;33m)\u001b[0m\u001b[1;33m)\u001b[0m\u001b[1;33m:\u001b[0m\u001b[1;33m\u001b[0m\u001b[0m\n\u001b[0m\u001b[0;32m     23\u001b[0m     \u001b[0my\u001b[0m \u001b[1;33m=\u001b[0m \u001b[0mNGAPercentages\u001b[0m\u001b[1;33m[\u001b[0m\u001b[0mindex\u001b[0m\u001b[1;33m]\u001b[0m\u001b[1;33m\u001b[0m\u001b[0m\n\u001b[0;32m     24\u001b[0m     \u001b[0mx\u001b[0m \u001b[1;33m=\u001b[0m \u001b[0mStrengths\u001b[0m\u001b[1;33m\u001b[0m\u001b[0m\n",
      "\u001b[1;31mNameError\u001b[0m: name 'Ranges' is not defined"
     ],
     "ename": "NameError",
     "evalue": "name 'Ranges' is not defined",
     "output_type": "error"
    }
   ],
   "source": [
    "\n",
    "import matplotlib.pyplot as plt\n",
    "from matplotlib.font_manager import FontProperties\n",
    "# Marked as unused, but needed to register '3d' projection\n",
    "from mpl_toolkits.mplot3d import Axes3D \n",
    "\n",
    "\n",
    "fig = plt.figure()\n",
    "# ax = fig.gca()\n",
    "ax = fig.gca(projection = \"3d\")\n",
    "\n",
    "# Set font size and constant strings\n",
    "SMALL_FONT = FontProperties().set_size('small')\n",
    "TITLE = 'Percentage of elections with efficient outcomes vs. Influencer Strength and Range'\n",
    "XLABEL = 'influencer Strength'\n",
    "YLABEL = '% of Efficient Outcomes'\n",
    "\n",
    "#Define functions for finding line colors from a range\n",
    "NGAColor = lambda range: (1 - (range - 20)/20,(range - 20)/20, 0)\n",
    "OPOVColor = lambda range: (1 - (range - 20)/20, .5, (range - 20)/20)\n",
    "\n",
    "# NGA and OPOV are in separate for loops, so the legend is in a better order\n",
    "for index in range(len(Ranges)):\n",
    "    y = NGAPercentages[index]\n",
    "    x = Strengths\n",
    "    \n",
    "    ax.plot(x, y, zs = 0, zdir = 'y', color = NGAColor(Ranges[index]), label = \"NGA, Influencer Range \"+str(Ranges[index]))\n",
    "    # The plot function below this line was used for 2d graphs\n",
    "    # ax.plot(x, y, color = NGAColor(Ranges[index]), label = \"NGA, Influencer Range \"+str(Ranges[index]))\n",
    "\n",
    "\n",
    "for index in range(len(Ranges)):\n",
    "    y = OPOVPercentages[index]\n",
    "    x = Strengths\n",
    "    \n",
    "    ax.plot(x, y, zs = 1, zdir = 'y', color = OPOVColor(Ranges[index]), label = \"1p1v, Influencer Range \"+str(Ranges[index]))\n",
    "\n",
    "    \n",
    "plt.legend(bbox_to_anchor= (1,1), prop = SMALL_FONT)\n",
    "# plt.xlabel(XLABEL) # for 2d \n",
    "ax.set_zlabel(YLABEL)\n",
    "plt.ylabel(YLABEL)\n",
    "ax.get_yaxis().set_visible(False)\n",
    "ax.get_yaxis().set_ticks([])\n",
    "plt.gcf().subplots_adjust(top = 1.25, bottom = 0, right = 1.15)\n",
    "plt.show()"
   ],
   "metadata": {
    "collapsed": false,
    "pycharm": {
     "name": "#%% \n",
     "is_executing": false
    }
   }
  }
 ],
 "metadata": {
  "language_info": {
   "codemirror_mode": {
    "name": "ipython",
    "version": 2
   },
   "file_extension": ".py",
   "mimetype": "text/x-python",
   "name": "python",
   "nbconvert_exporter": "python",
   "pygments_lexer": "ipython2",
   "version": "2.7.6"
  },
  "kernelspec": {
   "name": "python3",
   "language": "python",
   "display_name": "Python 3"
  },
  "pycharm": {
   "stem_cell": {
    "cell_type": "raw",
    "source": [
     "    #%% md\n",
     "## Analyzing the difference between 1p1v and NGA when 'influencers' are involved.\n",
     "'Influencers' can be thought of either political parties, disinformation spreaders, or just friends and family influencing each other.\n",
     "Influencers have a range, and strength.  Range is essentially how far away from the influencer can the voting agent be with his utilities. In real life, people are more likely to let themselves be influenced by people with similar views. This is modeled by only agents within the utility range of the influencer may be influenced.  The other variable is strength, which is how much are the voting agents influenced by the influencer. \n",
     "\n",
     "We will be comparing the percentage of efficient outcomes between 1p1v and NGA, given a range and strength. "
    ],
    "metadata": {
     "collapsed": false
    }
   }
  }
 },
 "nbformat": 4,
 "nbformat_minor": 0
}