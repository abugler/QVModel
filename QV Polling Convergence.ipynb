{
 "cells": [
  {
   "cell_type": "markdown",
   "metadata": {
    "collapsed": true,
    "pycharm": {
     "name": "#%% md\n"
    }
   },
   "source": [
    "Does polling converge under certain condition?\n",
    "In other words, if many polls are done, will the poll converge to some vector\n"
   ]
  },
  {
   "cell_type": "markdown",
   "source": [
    "First, we will analyze the difference in portion of strategic votes"
   ],
   "metadata": {
    "collapsed": false,
    "pycharm": {
     "name": "#%% md\n"
    }
   }
  },
  {
   "cell_type": "code",
   "execution_count": 6,
   "outputs": [],
   "source": [
    "import pandas as pd\n",
    "import numpy as np\n",
    "\n",
    "df =  pd.read_csv(\"converge-portion-of-strategic-vote.csv\")\n",
    "parse_vectors = lambda f: f.apply(lambda array: np.fromstring(array[1:-1], sep = ' ', dtype = float)) \n",
    "nth_item = lambda f, i: f.apply(lambda x: float(x[i]))\n",
    "\n",
    "# Remove tick zero data\n",
    "df = df[df[\"Tick\"] != 0]\n",
    "df = df[df[\"Utility Distribution\"] == \"Normal mean = 0\"]\n",
    "\n",
    "df[\"Poll\"] = parse_vectors(df[\"Poll\"])\n",
    "df[\"Total Utility Gain\"] = parse_vectors(df[\"Total Utility Gain\"])\n",
    "\n",
    "# Group by runs\n",
    "run_groups = df.groupby(by = [\"Run Number\"])\n",
    "\n",
    "# sorting should not be necessary yet\n",
    "# run_groups = run_groups.apply(lambda x: x.sort_values(by = \"Tick\"))"
   ],
   "metadata": {
    "collapsed": false,
    "pycharm": {
     "name": "#%%\n",
     "is_executing": false
    }
   }
  },
  {
   "cell_type": "markdown",
   "source": [
    "What do we want to show with this data?\n",
    "What is the relationship with the Standard Deviation of the poll vector, and the Portion of Strategic votes?"
   ],
   "metadata": {
    "collapsed": false,
    "pycharm": {
     "name": "#%% md\n"
    }
   }
  },
  {
   "cell_type": "markdown",
   "source": [
    "First, find the standard deviations of every run"
   ],
   "metadata": {
    "collapsed": false,
    "pycharm": {
     "name": "#%% md\n"
    }
   }
  },
  {
   "cell_type": "code",
   "execution_count": 7,
   "outputs": [],
   "source": [
    "# Define functions, for readability in the loop\n",
    "ticks = max(df[\"Tick\"])\n",
    "# Finds the mean vector\n",
    "from operator import add\n",
    "def find_mean(group):\n",
    "    mean_vector = [0] * len(group[\"Poll\"].head(1).array[0])\n",
    "    for vector in group[\"Poll\"]:\n",
    "        mean_vector = list(map(add, mean_vector, vector))\n",
    "    for i in range(len(mean_vector)):\n",
    "        mean_vector[i] = mean_vector[i] / ticks\n",
    "    return mean_vector\n",
    "# Finds total Standard deviation\n",
    "def find_stdev(group):\n",
    "    mean = find_mean(group)\n",
    "    dev_sum = 0\n",
    "    for index, row in group.iterrows():\n",
    "        dev = 0\n",
    "        for i in range(row[\"Poll\"].size):\n",
    "            dev += pow(row[\"Poll\"][i] - mean[i], 2)\n",
    "        dev_sum += dev\n",
    "    result = pow(dev_sum / ticks,.5)\n",
    "    return result\n",
    "    \n",
    "\n",
    "# Iterate through all groups of runs and calculate the stdev and mean\n",
    "st_dev_runs = pd.DataFrame(columns = [\"Run Number\",\"SVP\", \"Standard Deviation\", \"Mean Vector\"])\n",
    "for name, group in run_groups:\n",
    "    st_dev_runs = st_dev_runs.append(pd.Series(data = {\n",
    "        \"Run Number\": int(group[\"Run Number\"].head(1).array[0]),\n",
    "        \"SVP\": (group[\"Strategic Vote Portion\"].head(1).array[0]),\n",
    "        \"Standard Deviation\": find_stdev(group),\n",
    "        \"Mean Vector\": find_mean(group)\n",
    "    }), ignore_index=True)\n"
   ],
   "metadata": {
    "collapsed": false,
    "pycharm": {
     "name": "#%%\n",
     "is_executing": false
    }
   }
  },
  {
   "cell_type": "code",
   "execution_count": 8,
   "outputs": [],
   "source": [
    "svp_groups = st_dev_runs.groupby(by = [\"SVP\"])"
   ],
   "metadata": {
    "collapsed": false,
    "pycharm": {
     "name": "#%%\n",
     "is_executing": false
    }
   }
  },
  {
   "cell_type": "code",
   "execution_count": 9,
   "outputs": [
    {
     "data": {
      "text/plain": "<Figure size 640x480 with 1 Axes>"
     },
     "metadata": {},
     "output_type": "display_data"
    }
   ],
   "source": [
    "import matplotlib.pyplot as plt\n",
    "\n",
    "svp_list = st_dev_runs[\"SVP\"].drop_duplicates().array\n",
    "stdev_lists = []\n",
    "# Make the box plots\n",
    "for name, group in svp_groups:\n",
    "    stdev_lists.append(group[\"Standard Deviation\"].array)\n",
    "fig, ax = plt.subplots()\n",
    "ax.boxplot(stdev_lists, showfliers = True, labels = svp_list)\n",
    "plt.grid()\n",
    "plt.xlabel(\"Strategic Portion of Vote\")\n",
    "plt.ylabel(\"Standard Deviation of the poll vector\")\n",
    "plt.show()"
   ],
   "metadata": {
    "collapsed": false,
    "pycharm": {
     "name": "#%%\n",
     "is_executing": false
    }
   }
  },
  {
   "cell_type": "markdown",
   "source": [
    "SPV = .1 is giving illegible results, redo it only for SPV - .1"
   ],
   "metadata": {
    "collapsed": false,
    "pycharm": {
     "name": "#%% md\n"
    }
   }
  },
  {
   "cell_type": "code",
   "execution_count": 10,
   "outputs": [
    {
     "data": {
      "text/plain": "<Figure size 432x288 with 1 Axes>",
      "image/png": "[encoded data removed]"
     },
     "metadata": {
      "needs_background": "light"
     },
     "output_type": "display_data"
    }
   ],
   "source": [
    "current_group = st_dev_runs[st_dev_runs[\"SVP\"] == .1]\n",
    "plt.boxplot([current_group[\"Standard Deviation\"]], showfliers = True, labels = [.1])\n",
    "plt.grid()\n",
    "plt.xlabel(\"Strategic Portion of Vote\")\n",
    "plt.ylabel(\"Standard Deviation of the poll vector\")\n",
    "plt.show()\n"
   ],
   "metadata": {
    "collapsed": false,
    "pycharm": {
     "name": "#%%\n",
     "is_executing": false
    }
   }
  },
  {
   "cell_type": "markdown",
   "source": [
    "Obviously, if the SPV is higher, then the Standard Deviation will be higher.\n",
    "Are any of these elections with higher SPV converging?"
   ],
   "metadata": {
    "collapsed": false,
    "pycharm": {
     "name": "#%% md\n",
     "is_executing": false
    }
   }
  },
  {
   "cell_type": "code",
   "execution_count": 11,
   "outputs": [],
   "source": [
    "# Set target svp\n",
    "svp = .1\n",
    "\n",
    "\"\"\"\n",
    "Params: \n",
    "polling_vectors: df with run number and poll vector\n",
    "mean_vector: df with run number and mean\n",
    "\n",
    "return:\n",
    "polling_vectors, but with another column concatenated with the distance from the mean \n",
    "\"\"\"\n",
    "\n",
    "def calculate_distance_from_mean(polling_vectors, mean_vector):\n",
    "    result = pd.concat([polling_vectors[polling_vectors[\"Strategic Vote Portion\"] == svp], pd.DataFrame(columns = [\"Distance from Mean\"])], sort = False)\n",
    "    for index, row in result.iterrows():\n",
    "        mean = mean_vector[mean_vector[\"Run Number\"] == row[\"Run Number\"]][\"Mean Vector\"].head(1).array[0]\n",
    "        poll = row[\"Poll\"]\n",
    "        distance = 0\n",
    "        for i in range(len(mean)):\n",
    "            distance += pow(mean[i] - poll[i], 2) \n",
    "        distance = pow(distance, .5)\n",
    "        result.loc[index, \"Distance from Mean\"] = distance\n",
    "    return result\n",
    "svp_filter_df = calculate_distance_from_mean(df[df[\"Strategic Vote Portion\"] == svp], st_dev_runs[st_dev_runs[\"SVP\"] == svp])\n",
    "svp_filter_df = svp_filter_df[svp_filter_df[\"Run Number\"].apply(lambda x: bool(x))]"
   ],
   "metadata": {
    "collapsed": false,
    "pycharm": {
     "name": "#%%\n",
     "is_executing": false
    }
   }
  },
  {
   "cell_type": "code",
   "execution_count": 12,
   "outputs": [],
   "source": [
    "svp_filter_df = svp_filter_df.sort_values(\"Distance from Mean\")\n",
    "svp_filter_df[\"Distance from Mean\"] = svp_filter_df[\"Distance from Mean\"].apply(lambda x: float(x))\n",
    "svp_filter_df[\"Tick\"] = svp_filter_df[\"Tick\"].apply(lambda x: float(x))"
   ],
   "metadata": {
    "collapsed": false,
    "pycharm": {
     "name": "#%%\n",
     "is_executing": false
    }
   }
  },
  {
   "cell_type": "markdown",
   "source": [
    "This graph doesn't really tell us anything, there doesn't seem to be a correlation between distance from mean and number of ticks."
   ],
   "metadata": {
    "collapsed": false,
    "pycharm": {
     "name": "#%% md\n"
    }
   }
  },
  {
   "cell_type": "code",
   "execution_count": 13,
   "outputs": [
    {
     "data": {
      "text/plain": "<Figure size 432x288 with 1 Axes>",
      "image/png": "[encoded data removed]"
     },
     "metadata": {
      "needs_background": "light"
     },
     "output_type": "display_data"
    }
   ],
   "source": [
    "svp_filter_df.plot.scatter(\"Tick\", \"Distance from Mean\", s = .25)\n",
    "plt.grid()\n",
    "plt.xlabel(\"Poll Iterations done\")\n",
    "plt.ylabel(\"Current Poll distance to mean\")\n",
    "plt.title(\"Distance to mean poll position over number of iterations.  Strategic Vote Portion = \"+ str(svp))\n",
    "plt.show()"
   ],
   "metadata": {
    "collapsed": false,
    "pycharm": {
     "name": "#%%\n",
     "is_executing": false
    }
   }
  },
  {
   "cell_type": "markdown",
   "source": [
    "But if we look at only one of the runs,"
   ],
   "metadata": {
    "collapsed": false,
    "pycharm": {
     "name": "#%% md\n"
    }
   }
  },
  {
   "cell_type": "code",
   "execution_count": 14,
   "outputs": [
    {
     "data": {
      "text/plain": "<Figure size 432x288 with 1 Axes>",
      "image/png": "[encoded data removed]"
     },
     "metadata": {
      "needs_background": "light"
     },
     "output_type": "display_data"
    }
   ],
   "source": [
    "random_run = svp_filter_df.sample(n=1)\n",
    "random_run = svp_filter_df[svp_filter_df[\"Run Number\"] == random_run.iat[0, 0]].sort_values(\"Tick\")\n",
    "random_run.plot.scatter(\"Tick\", \"Distance from Mean\", s = .25)\n",
    "plt.grid()\n",
    "plt.xlabel(\"Poll Iterations done\")\n",
    "plt.ylabel(\"Current Poll distance to mean\")\n",
    "plt.title(\"Distance to mean poll position over number of iterations.  Strategic Vote Portion = \"+ str(svp))\n",
    "plt.show()"
   ],
   "metadata": {
    "collapsed": false,
    "pycharm": {
     "name": "#%%\n",
     "is_executing": false
    }
   }
  },
  {
   "cell_type": "code",
   "execution_count": null,
   "outputs": [],
   "source": [
    "\n"
   ],
   "metadata": {
    "collapsed": false,
    "pycharm": {
     "name": "#%%\n"
    }
   }
  }
 ],
 "metadata": {
  "language_info": {
   "codemirror_mode": {
    "name": "ipython",
    "version": 2
   },
   "file_extension": ".py",
   "mimetype": "text/x-python",
   "name": "python",
   "nbconvert_exporter": "python",
   "pygments_lexer": "ipython2",
   "version": "2.7.6"
  },
  "kernelspec": {
   "name": "pycharm-a355fa7c",
   "language": "python",
   "display_name": "PyCharm (QVModels)"
  },
  "pycharm": {
   "stem_cell": {
    "cell_type": "raw",
    "source": [],
    "metadata": {
     "collapsed": false
    }
   }
  }
 },
 "nbformat": 4,
 "nbformat_minor": 0
}