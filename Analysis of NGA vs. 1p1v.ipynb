{
 "cells": [
  {
   "cell_type": "markdown",
   "metadata": {},
   "source": [
    "## Analysis of NGA vs. 1p1v\n",
    "Currently, NGA is the best way to approximate simultaneous QV  \n",
    "This Script will calculate the number of Positive payoffs for NGA and 1p1v.\n",
    "\n",
    "There is only truthful voting.  (The votes cast are mapped from the agents utilities)"
   ]
  },
  {
   "cell_type": "code",
   "execution_count": 1,
   "metadata": {
    "pycharm": {
     "is_executing": false
    }
   },
   "outputs": [
    {
     "data": {
      "text/plain": "   Population  Percentage Positive NGA  Number of Runs NGA  \\\n0         250                      1.0                1000   \n1         500                      1.0                1000   \n2        1000                      1.0                1000   \n\n   Number of Positive Payoffs NGA  Percentage Positive 1p1v  \\\n0                            1000                     0.869   \n1                            1000                     0.881   \n2                            1000                     0.885   \n\n   Number of Runs 1p1v  Number of Positive Payoffs 1p1v  \n0                 1000                              869  \n1                 1000                              881  \n2                 1000                              885  ",
      "text/html": "<div>\n<style scoped>\n    .dataframe tbody tr th:only-of-type {\n        vertical-align: middle;\n    }\n\n    .dataframe tbody tr th {\n        vertical-align: top;\n    }\n\n    .dataframe thead th {\n        text-align: right;\n    }\n</style>\n<table border=\"1\" class=\"dataframe\">\n  <thead>\n    <tr style=\"text-align: right;\">\n      <th></th>\n      <th>Population</th>\n      <th>Percentage Positive NGA</th>\n      <th>Number of Runs NGA</th>\n      <th>Number of Positive Payoffs NGA</th>\n      <th>Percentage Positive 1p1v</th>\n      <th>Number of Runs 1p1v</th>\n      <th>Number of Positive Payoffs 1p1v</th>\n    </tr>\n  </thead>\n  <tbody>\n    <tr>\n      <th>0</th>\n      <td>250</td>\n      <td>1.0</td>\n      <td>1000</td>\n      <td>1000</td>\n      <td>0.869</td>\n      <td>1000</td>\n      <td>869</td>\n    </tr>\n    <tr>\n      <th>1</th>\n      <td>500</td>\n      <td>1.0</td>\n      <td>1000</td>\n      <td>1000</td>\n      <td>0.881</td>\n      <td>1000</td>\n      <td>881</td>\n    </tr>\n    <tr>\n      <th>2</th>\n      <td>1000</td>\n      <td>1.0</td>\n      <td>1000</td>\n      <td>1000</td>\n      <td>0.885</td>\n      <td>1000</td>\n      <td>885</td>\n    </tr>\n  </tbody>\n</table>\n</div>"
     },
     "metadata": {},
     "output_type": "execute_result",
     "execution_count": 1
    }
   ],
   "source": [
    "import pandas as pd\n",
    "\n",
    "df = pd.read_csv(\"NGA-vs-1p1v-table.csv\")\n",
    "\n",
    "\n",
    "# Define DataFrame for recording Percentage.\n",
    "percentages = pd.DataFrame(data = {\n",
    "    'Population' : [250, 500, 1000],\n",
    "    'Percentage Positive NGA': [0,0,0],\n",
    "    'Number of Runs NGA': [0, 0, 0],\n",
    "    'Number of Positive Payoffs NGA': [0, 0, 0],\n",
    "    'Percentage Positive 1p1v': [0, 0, 0],\n",
    "    'Number of Runs 1p1v': [0, 0, 0],\n",
    "    'Number of Positive Payoffs 1p1v': [0, 0, 0]}\n",
    ")\n",
    "\n",
    "# Iterate through all rows for the df, sum the number of positive payoff, and divide by number of runs to calculate the percentage of positive payoffs \n",
    "for index, row in df.iterrows():\n",
    "    EditingIndex = percentages[ percentages['Population'] ==  int(row['Population'])].index[0]\n",
    "    if row[\"NGA?\"]:\n",
    "        percentages.at[EditingIndex, 'Number of Runs NGA'] += 1\n",
    "        percentages.at[EditingIndex, 'Number of Positive Payoffs NGA'] += int(row[\"Utility Gain\"] > 0)\n",
    "        percentages.loc[EditingIndex, 'Percentage Positive NGA'] = percentages.loc[EditingIndex, 'Number of Positive Payoffs NGA'] / percentages.loc[EditingIndex, 'Number of Runs NGA']\n",
    "    else:\n",
    "        percentages.at[EditingIndex, 'Number of Runs 1p1v'] += 1\n",
    "        percentages.at[EditingIndex, 'Number of Positive Payoffs 1p1v'] += int(row[\"Utility Gain\"] > 0)\n",
    "        percentages.loc[EditingIndex, 'Percentage Positive 1p1v'] = percentages.loc[EditingIndex, 'Number of Positive Payoffs 1p1v'] / percentages.loc[EditingIndex, 'Number of Runs 1p1v']\n",
    "        \n",
    "percentages"
   ]
  },
  {
   "cell_type": "code",
   "execution_count": null,
   "metadata": {},
   "outputs": [],
   "source": []
  }
 ],
 "metadata": {
  "kernelspec": {
   "display_name": "Python 3",
   "language": "python",
   "name": "python3"
  },
  "language_info": {
   "codemirror_mode": {
    "name": "ipython",
    "version": 3
   },
   "file_extension": ".py",
   "mimetype": "text/x-python",
   "name": "python",
   "nbconvert_exporter": "python",
   "pygments_lexer": "ipython3",
   "version": "3.7.0"
  },
  "pycharm": {
   "stem_cell": {
    "cell_type": "raw",
    "source": [],
    "metadata": {
     "collapsed": false
    }
   }
  }
 },
 "nbformat": 4,
 "nbformat_minor": 2
}