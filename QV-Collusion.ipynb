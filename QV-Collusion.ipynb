{
 "cells": [
  {
   "cell_type": "code",
   "execution_count": 1,
   "metadata": {
    "pycharm": {
     "is_executing": false
    }
   },
   "outputs": [],
   "source": [
    "import pandas as pd\n",
    "import numpy as np\n",
    "import pyparsing as pp\n",
    "df = pd.read_csv(\"QVoting with Polling and Collusion QV-Collusion-table.csv\")\n",
    "\n",
    "# Define useful functions\n",
    "\n",
    "# Parses a column of single vectors\n",
    "parse_single_vector_float = lambda f: \\\n",
    "    f.apply(lambda array: np.fromstring(array[1:-1], sep = ' ', dtype = float))\n",
    "parse_single_vector_int = lambda f: \\\n",
    "    f.apply(lambda array: np.fromstring(array[1:-1], sep = ' ', dtype = int))\n",
    "\n",
    "# Returns the nth element of every array in a column\n",
    "nth_item_float = lambda f, i: \\\n",
    "    f.apply(lambda x: float(x[i]))\n",
    "\n",
    "# Parses a column of lists of lists\n",
    "parse_list_of_vectors = lambda column : column.apply(lambda array: pp.nestedExpr('[', ']').parseString(array).asList()[0])\n"
   ]
  },
  {
   "cell_type": "code",
   "execution_count": null,
   "metadata": {
    "pycharm": {
     "is_executing": true,
     "name": "#%%\n"
    }
   },
   "outputs": [],
   "source": [
    "# Clean the df\n",
    "\n",
    "# Tick 0 data is useless\n",
    "df = df[df[\"Tick\"] != 0]\n",
    "\n",
    "# Parse Vectors\n",
    "df[\"Shapley Value Arrays\"] = parse_list_of_vectors(df[\"Shapley Value Arrays\"])\n",
    "df[\"Party Sizes\"] = parse_single_vector_int(df[\"Party Sizes\"])\n",
    "df[\"Total Utility Gain\"] = parse_single_vector_float(df[\"Total Utility Gain\"])"
   ]
  },
  {
   "cell_type": "markdown",
   "metadata": {
    "pycharm": {
     "name": "#%% md\n"
    }
   },
   "source": [
    "Goal 1: How much of the population should collude to tip the vote in their favor?\n",
    "------"
   ]
  },
  {
   "cell_type": "code",
   "execution_count": null,
   "metadata": {
    "pycharm": {
     "is_executing": true,
     "name": "#%%\n"
    }
   },
   "outputs": [],
   "source": [
    "# Useful statistics: Number of Colluding members\n",
    "df_1 = df\n",
    "df_1 = pd.concat([df_1, pd.DataFrame(columns = [\"Number of Colluding Members\"])])\n",
    "df_1[\"Number of Colluding Members\"] = df_1[\"Party Sizes\"].apply(lambda x: sum(x))\n",
    "\n",
    "# Group by runs\n",
    "run_groups = df_1.sort_values([\"Tick\"]).groupby(by = [\"Run Number\"])"
   ]
  },
  {
   "cell_type": "code",
   "execution_count": null,
   "metadata": {
    "pycharm": {
     "is_executing": true,
     "name": "#%%\n"
    }
   },
   "outputs": [],
   "source": [
    "# Find out when each run flips, as a result of collusion\n",
    "\n",
    "df_critical_collusion = pd.concat([df_1.drop_duplicates(subset = \"Run Number\"),\n",
    "                                   pd.DataFrame(columns = [\"Last Utility\"])\n",
    "                                   ])\n",
    "del df_critical_collusion[\"Shapley Value Arrays\"]\n",
    "del df_critical_collusion[\"Party Sizes\"]\n",
    "del df_critical_collusion[\"Mean Party Size\"]\n",
    "df_critical_collusion[\"Tick\"] = 0\n",
    "df_critical_collusion[\"Number of Colluding Members\"] = 0\n",
    "df_critical_collusion[\"Total Utility Gain\"] = 0\n",
    "df_critical_collusion[\"Last Utility\"] = 0\n",
    "df_critical_collusion = df_critical_collusion.astype(object)\n",
    "\n",
    "# Checks if floating point arrays are equal.\n",
    "# Accounts for rounding and floating point precision error\n",
    "def arrays_equal(first, second):\n",
    "    if len(first) !=  len(second):\n",
    "        return False\n",
    "    for x, y in zip(first, second):\n",
    "        if abs (y - x) > .1:\n",
    "            return False\n",
    "    return True\n",
    "\n",
    "# So if an axis flips, its the cause of collusion.  \n",
    "# (There are no strategic voters, everyone votes according to their utilities)\n",
    "for name, group in run_groups:\n",
    "    initial_utility = list(group[\"Total Utility Gain\"].values[0])\n",
    "    index = df_critical_collusion[df_critical_collusion[\"Run Number\"] == group[\"Run Number\"].values[0]].index[0]\n",
    "    last_row = 0\n",
    "    for i, row in group.iterrows():\n",
    "        if not arrays_equal(list(row[\"Total Utility Gain\"]), initial_utility):\n",
    "            df_critical_collusion.loc[index, \"Tick\"] = row[\"Tick\"]\n",
    "            df_critical_collusion.loc[index, \"Number of Colluding Members\"] = row[\"Number of Colluding Members\"]\n",
    "            df_critical_collusion.loc[index, \"Total Utility Gain\"] = row[\"Total Utility Gain\"]\n",
    "            df_critical_collusion.loc[index, \"Last Utility\"] = last_row[\"Total Utility Gain\"]\n",
    "            break\n",
    "        last_row = row\n",
    "        "
   ]
  },
  {
   "cell_type": "markdown",
   "metadata": {
    "pycharm": {
     "name": "#%% md\n"
    }
   },
   "source": [
    "For the following graphs, the range is quite large. Does the utility play a role in this?"
   ]
  },
  {
   "cell_type": "code",
   "execution_count": null,
   "metadata": {
    "pycharm": {
     "is_executing": true,
     "name": "#%%\n"
    }
   },
   "outputs": [],
   "source": [
    "import matplotlib.pyplot as plt\n",
    "import seaborn as sns\n",
    "\n",
    "df_critical_collusion = df_critical_collusion[df_critical_collusion[\"Number of Colluding Members\"] != 0]\n",
    "# df_critical_collusion.boxplot(by = \"Number of Issues\", column = \"Number of Colluding Members\")\n",
    "\n",
    "sns.boxplot(\n",
    "    x = \"Number of Issues\", \n",
    "    y = \"Number of Colluding Members\", \n",
    "    data = df_critical_collusion).set_title(\"Number of Colluding Members necessary to change the outcome of an election, Population = 10000\")\n",
    "\n",
    "sns.stripplot(\n",
    "    x = \"Number of Issues\", \n",
    "    y = \"Number of Colluding Members\", \n",
    "    data = df_critical_collusion,\n",
    "    jitter=True)\n"
   ]
  },
  {
   "cell_type": "markdown",
   "metadata": {
    "pycharm": {
     "name": "#%% md\n"
    }
   },
   "source": [
    "Goal 2: What does the average/sum Shapley value need to be to tip the election?\n",
    "-----\n",
    "Notes:\n",
    "The direction is entirely arbitrary, so only direction 0 will be inspected. \n",
    "Only elections which have flipped in direction 0 will be inspected."
   ]
  },
  {
   "cell_type": "code",
   "execution_count": null,
   "metadata": {
    "pycharm": {
     "is_executing": true,
     "name": "#%% \n"
    }
   },
   "outputs": [],
   "source": [
    "\n",
    "# Passes in group for a single run, returns True if flipped on zero axis, False otherwise.\n",
    "def flipped_on_zero(group):\n",
    "    zero_utility = nth_item_float(group[\"Total Utility Gain\"], 0)\n",
    "    first = zero_utility.array[0]\n",
    "    return not zero_utility.apply(lambda x: abs(x - first) < .1).all()\n",
    "        \n",
    "flipped = df.groupby(by = \"Run Number\").filter(lambda g: flipped_on_zero(g))\n",
    "flipped_run_groups = flipped.groupby(by = \"Run Number\")"
   ]
  },
  {
   "cell_type": "code",
   "execution_count": null,
   "metadata": {
    "pycharm": {
     "is_executing": true,
     "name": "#%%\n"
    }
   },
   "outputs": [],
   "source": [
    "\n",
    "# A similar methodology is used in goal 1\n",
    "df_shapley_0 = pd.concat([flipped.drop_duplicates(subset = \"Run Number\"), \n",
    "                          pd.DataFrame(columns = [\"Mean zero-axis Shapley\", \"Sum zero-axis Shapley\",\"Utility Gain zero-axis\"])])\n",
    "df_shapley_0 = df_shapley_0.astype(object)\n",
    "del df_shapley_0[\"Party Sizes\"]\n",
    "del df_shapley_0[\"Mean Party Size\"]\n",
    "del df_shapley_0[\"Total Utility Gain\"]\n",
    "df_shapley_0[\"Tick\"] = 0\n",
    "\n",
    "\n",
    "def sum_0_axis_shapley(shapley_lists):\n",
    "    lst = filter(lambda l: l != '0', shapley_lists)\n",
    "    return sum(map(lambda l: float(l[0]), lst))\n",
    "\n",
    "def mean_0_axis_shapley(shapley_lists):\n",
    "    lst = list(filter(lambda l: l != '0', shapley_lists))\n",
    "    length = len(lst)\n",
    "    result =  sum(map(lambda l: float(l[0]), lst))/length\n",
    "    return result\n",
    "\n",
    "# If Axis 0 flips, its the cause of collusion.  \n",
    "# (There are no strategic voters, everyone votes according to their utilities)\n",
    "for name, group in flipped_run_groups:\n",
    "    initial_utility = list(group[\"Total Utility Gain\"].array[0])\n",
    "    index = df_shapley_0[df_shapley_0[\"Run Number\"] == group[\"Run Number\"].values[0]].index[0]\n",
    "    last_row = 0\n",
    "    for i, row in group.iterrows():\n",
    "        if abs(row[\"Total Utility Gain\"][0] - initial_utility[0]) > .01:\n",
    "            df_shapley_0.loc[index, \"Tick\"] = row[\"Tick\"]\n",
    "            df_shapley_0.loc[index, \"Mean zero-axis Shapley\"] = mean_0_axis_shapley(row[\"Shapley Value Arrays\"])\n",
    "            df_shapley_0.loc[index, \"Sum zero-axis Shapley\"] = sum_0_axis_shapley(row[\"Shapley Value Arrays\"])\n",
    "            df_shapley_0.at[index, \"Shapley Value Arrays\"] = row[\"Shapley Value Arrays\"]\n",
    "            df_shapley_0.loc[index, \"Utility Gain zero-axis\"] = row[\"Total Utility Gain\"][0]\n",
    "            break\n",
    "        last_row = row"
   ]
  },
  {
   "cell_type": "markdown",
   "metadata": {
    "pycharm": {
     "is_executing": false,
     "name": "#%% md\n"
    }
   },
   "source": [
    "If no relationship can be pulled, try splitting them up by number of issues"
   ]
  },
  {
   "cell_type": "code",
   "execution_count": null,
   "metadata": {
    "pycharm": {
     "is_executing": true,
     "name": "#%%\n"
    }
   },
   "outputs": [],
   "source": [
    "sns.scatterplot(x = \"Utility Gain zero-axis\", y = \"Mean zero-axis Shapley\", data = df_shapley_0)\n",
    "plt.show()\n",
    "sns.scatterplot(x = \"Utility Gain zero-axis\", y = \"Sum zero-axis Shapley\", data = df_shapley_0)"
   ]
  },
  {
   "cell_type": "markdown",
   "metadata": {
    "pycharm": {
     "is_executing": true,
     "name": "#%% md\n"
    }
   },
   "source": [
    "Goal 3: Whats the average number of collusion groups over time?\n",
    "------\n",
    "This should be grouped by number of issues.\n",
    "Only Number of Issues == 10 and Collusion Growth == 1 will be analyzed. "
   ]
  },
  {
   "cell_type": "code",
   "execution_count": null,
   "metadata": {
    "pycharm": {
     "is_executing": true,
     "name": "#%%\n"
    }
   },
   "outputs": [],
   "source": [
    "df_3 = df[(df[\"Number of Issues\"] == 2) & (df[\"Collusion Growth\"] == 1)]\n",
    "\n",
    "average_colluding_groups = pd.DataFrame(columns = [\"Tick\", \"Average Number of Colluding Groups\"]).astype(float)\n",
    "\n",
    "average_colluding_groups[\"Tick\"] = df_3[\"Tick\"].drop_duplicates().sort_values()\n",
    "\n",
    "for index, tick in average_colluding_groups[\"Tick\"].items():\n",
    "    average_colluding_groups.at[index, \"Average Number of Colluding Groups\"] = df_3[df_3[\"Tick\"] == tick][\"Party Turtles\"].astype(float).agg('mean')"
   ]
  },
  {
   "cell_type": "code",
   "execution_count": null,
   "metadata": {
    "pycharm": {
     "is_executing": true,
     "name": "#%%\n"
    }
   },
   "outputs": [],
   "source": [
    "sns.relplot(x = \"Tick\", y = \"Average Number of Colluding Groups\", kind = \"line\", data = average_colluding_groups)"
   ]
  },
  {
   "cell_type": "code",
   "execution_count": null,
   "metadata": {
    "pycharm": {
     "name": "#%%\n"
    }
   },
   "outputs": [],
   "source": [
    "\n"
   ]
  }
 ],
 "metadata": {
  "kernelspec": {
   "display_name": "Python 3",
   "language": "python",
   "name": "python3"
  },
  "language_info": {
   "codemirror_mode": {
    "name": "ipython",
    "version": 3
   },
   "file_extension": ".py",
   "mimetype": "text/x-python",
   "name": "python",
   "nbconvert_exporter": "python",
   "pygments_lexer": "ipython3",
   "version": "3.7.0"
  },
  "pycharm": {
   "stem_cell": {
    "cell_type": "raw",
    "metadata": {
     "collapsed": false
    },
    "source": []
   }
  }
 },
 "nbformat": 4,
 "nbformat_minor": 1
}
